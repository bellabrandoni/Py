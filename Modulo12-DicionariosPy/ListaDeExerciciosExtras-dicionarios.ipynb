{
 "cells": [
  {
   "cell_type": "markdown",
   "metadata": {},
   "source": [
    "### Exercício 1\n",
    "Crie um sistema de consulta de preços\n",
    "Seu sistema deve:\n",
    "- Pedir para o usuário o nome de um produto\n",
    "- Caso o produto exista na lista de produtos, o programa deve retornar o preço do produto como resposta\n",
    "       - Ex: O produto celular custa R$1500\n",
    "- Caso o produto não exista na lista de produtos, o programa deve printar uma mensagem para o usuário tentar novamente\n"
   ]
  },
  {
   "cell_type": "code",
   "execution_count": 14,
   "metadata": {},
   "outputs": [],
   "source": [
    "precos = {\"celular\": 1500, \"camera\": 1000, \"fone de ouvido\": 800, \"monitor\": 2000}"
   ]
  },
  {
   "cell_type": "code",
   "execution_count": 12,
   "metadata": {},
   "outputs": [
    {
     "name": "stdout",
     "output_type": "stream",
     "text": [
      "O preco do celular é: R$ 1500\n"
     ]
    }
   ],
   "source": [
    "produto = input('Digite o nome do produto: ')\n",
    "#i = produto.index(precos)\n",
    "\n",
    "produto = produto.lower()\n",
    "if produto in precos :\n",
    "    preco = precos[produto]\n",
    "    print('O preco do {} é: R$ {}'.format(produto, preco))\n",
    "\n",
    "else: \n",
    "    print('Digite o produto corretamente')"
   ]
  },
  {
   "cell_type": "markdown",
   "metadata": {},
   "source": [
    "\n",
    "### Exercício 2\n",
    "Agora edite o programa anterior para fazer com que, caso não exista o produto, o programa pergunte se o usuário quer cadastrar o produto\n",
    "<br>Se ele responder sim, o programa deve pedir o nome do produto e o preco do produto e cadastrar no dicionário de preços\n",
    "<br>Em seguida do cadastro bem sucedido, o programa deve printar o dicionário de precos atualizado\n"
   ]
  },
  {
   "cell_type": "code",
   "execution_count": 13,
   "metadata": {},
   "outputs": [
    {
     "name": "stdout",
     "output_type": "stream",
     "text": [
      "{'celular': 1500, 'camera': 1000, 'fone de ouvido': 800, 'monitor': 2000, 'teclado': 83.5}\n"
     ]
    }
   ],
   "source": [
    "produto = input('Digite o produto: ')\n",
    "\n",
    "produto = produto.lower()\n",
    "\n",
    "if produto in precos :\n",
    "    preco = precos[produto]\n",
    "    print('O preco do {} é: R$ {}'.format(produto, preco))\n",
    "\n",
    "else :\n",
    "    opcao =  input('Deseja registrar o {}? (S/N)'.format(produto))\n",
    "    if opcao.lower() == 's':\n",
    "        preco = float(input('Digite o preco do produto procurado (apenas números)'))\n",
    "        precos[produto] = preco\n",
    "        print(precos)\n",
    "    else:\n",
    "        print('Produto não encontrado. Tente novamente')"
   ]
  },
  {
   "cell_type": "markdown",
   "metadata": {},
   "source": [
    "### Exercício 3\n",
    "Dada a lista de preços de produtos, uma loja resolveu fazer um reajuste nos preços dos produtos. \n",
    "calcule o novo valor dos produtos com base nas seguintes regras:\n",
    "- Preços até 1.000 vão ter um reajuste de 10% (ou seja, o novo preço será 110% do preço atual)\n",
    "- Preços até maiores que 1.000 até 2.000 vão ter reajuste de 15%\n",
    "- Preços acima de 2.000 vão ter reajuste de 20%"
   ]
  },
  {
   "cell_type": "code",
   "execution_count": 16,
   "metadata": {},
   "outputs": [
    {
     "name": "stdout",
     "output_type": "stream",
     "text": [
      "celular vai ter rejuste de 1724.9999999999998\n",
      "camera vai ter rejuste de 1100.0\n",
      "fone de ouvido vai ter rejuste de 880.0000000000001\n",
      "monitor vai ter rejuste de 3600.0\n"
     ]
    }
   ],
   "source": [
    "precos = {\"celular\": 1500, \"camera\": 1000, \"fone de ouvido\": 800, \"monitor\": 3000}\n",
    "\n",
    "for produto in precos :\n",
    "    preco_produto = precos[produto]\n",
    "    if preco_produto <= 1000 :\n",
    "        novo_preco = preco_produto * 1.1\n",
    "    elif preco_produto <= 2000 :\n",
    "        novo_preco = preco_produto * 1.15\n",
    "    else :\n",
    "        novo_preco = preco_produto * 1.2\n",
    "    print('{} vai ter rejuste de {}'.format(produto, novo_preco))"
   ]
  },
  {
   "cell_type": "markdown",
   "metadata": {},
   "source": [
    "### Exercício 4\n",
    " - Edite o programa antigo para ter os 2 dicionários, o de preços originais e o de novos preços\n",
    " - Em seguida calcule o valor total de reajuste em R$ que teve entre a lista de produtos original e a lista final\n"
   ]
  },
  {
   "cell_type": "code",
   "execution_count": 17,
   "metadata": {},
   "outputs": [
    {
     "name": "stdout",
     "output_type": "stream",
     "text": [
      "Produto celular, Novo Preço: R$1724.9999999999998\n",
      "Produto camera, Novo Preço: R$1100.0\n",
      "Produto fone de ouvido, Novo Preço: R$880.0000000000001\n",
      "Produto monitor, Novo Preço: R$3600.0\n",
      "O reajuste total foi de R$1005.0\n"
     ]
    }
   ],
   "source": [
    "precos = {\"celular\": 1500, \"camera\": 1000, \"fone de ouvido\": 800, \"monitor\": 3000}\n",
    "novos_precos = {}\n",
    "for produto in precos:\n",
    "    preco_produto = precos[produto]\n",
    "    if preco_produto <= 1000:\n",
    "        novo_preco = preco_produto * 1.1\n",
    "    elif preco_produto <= 2000:\n",
    "        novo_preco = preco_produto * 1.15\n",
    "    else:\n",
    "        novo_preco = preco_produto * 1.2\n",
    "    print(f\"Produto {produto}, Novo Preço: R${novo_preco}\")\n",
    "    novos_precos[produto] = novo_preco\n",
    "total_antigo = sum(precos.values())\n",
    "total_novo = sum(novos_precos.values())\n",
    "reajuste = total_novo - total_antigo\n",
    "print(f\"O reajuste total foi de R${reajuste}\")"
   ]
  },
  {
   "cell_type": "markdown",
   "metadata": {},
   "source": [
    "\n",
    "### Exercício 5\n",
    "- Uma empresa está analisando os resultados de vendas do 1º semestre de 2022 e 2023\n",
    "- Qual foi o % de crescimento de cada mês de 2023 em relação a 2022?\n",
    "- Depois de calcular isso, calcule o valor total de crescimento de 2023 em relação a 2022"
   ]
  },
  {
   "cell_type": "code",
   "execution_count": 37,
   "metadata": {},
   "outputs": [
    {
     "name": "stdout",
     "output_type": "stream",
     "text": [
      "No mês de jan o valor de crescimento foi de 13.3%\n",
      "No mês de fev o valor de crescimento foi de -3.2%\n",
      "No mês de mar o valor de crescimento foi de 25.0%\n",
      "No mês de abr o valor de crescimento foi de 1.8%\n",
      "No mês de mai o valor de crescimento foi de -1.8%\n",
      "No mês de jun o valor de crescimento foi de 8.8%\n",
      "O creescimento real foi de 6.9%\n"
     ]
    }
   ],
   "source": [
    "vendas_22 = {\"jan\": 15000, \"fev\": 15500, \"mar\": 14000, \"abr\": 16600, \"mai\": 16300, \"jun\": 17000}\n",
    "vendas_23 = {\"jan\": 17000, \"fev\": 15000, \"mar\": 17500, \"abr\": 16900, \"mai\": 16000, \"jun\": 18500}\n",
    "\n",
    "for mes in vendas_23 :\n",
    "    valor_22 = vendas_22[mes]\n",
    "    valor_23 = vendas_23[mes]\n",
    "    percentual= (valor_23 / valor_22) -1\n",
    "    print('No mês de {} o valor de crescimento foi de {:.1%}'.format(mes, percentual))\n",
    "\n",
    "total_22 = sum(vendas_22.values())\n",
    "total_23 = sum(vendas_23.values())\n",
    "crescimento = (total_23 / total_22) -1\n",
    "print('O creescimento real foi de {:.1%}'.format(crescimento))"
   ]
  },
  {
   "cell_type": "markdown",
   "metadata": {},
   "source": [
    "### Exercício 6 - Desafio\n",
    "- No final da reunião de apresentação dos números, seu chefe perguntou:\n",
    "- E se nos meses de 2023 que a gente vendeu menos do que 2022 a gente tivesse pelo menos empatado com 2022 (ou seja, se nos meses de 2023 em que as vendas foram menores do que o mesmo mês em 2022, o valor de vendas tivesse sido igual a 2022)\n",
    "- Qual teria sido o nosso crescimento de 2023 frente a 2022?"
   ]
  },
  {
   "cell_type": "code",
   "execution_count": 38,
   "metadata": {},
   "outputs": [
    {
     "name": "stdout",
     "output_type": "stream",
     "text": [
      "No mês jan o valor de crescimento foi de 13.3%\n",
      "No mês fev o valor de crescimento foi de -3.2%\n",
      "No mês mar o valor de crescimento foi de 25.0%\n",
      "No mês abr o valor de crescimento foi de 1.8%\n",
      "No mês mai o valor de crescimento foi de -1.8%\n",
      "No mês jun o valor de crescimento foi de 8.8%\n",
      "O creescimento real foi de 7.7%\n"
     ]
    }
   ],
   "source": [
    "for mes in vendas_23:\n",
    "    valor_22 = vendas_22[mes]\n",
    "    valor_23 = vendas_23[mes]\n",
    "    percentual = valor_23 / valor_22 - 1\n",
    "    if percentual < 0:\n",
    "        vendas_23[mes] = valor_22\n",
    "    print('No mês {} o valor de crescimento foi de {:.1%}'.format(mes, percentual))\n",
    "\n",
    "total_22 = sum(vendas_22.values())\n",
    "total_23 = sum(vendas_23.values())\n",
    "crescimento = total_23 / total_22 - 1\n",
    "print('O creescimento real foi de {:.1%}'.format(crescimento))"
   ]
  }
 ],
 "metadata": {
  "kernelspec": {
   "display_name": "Python 3",
   "language": "python",
   "name": "python3"
  },
  "language_info": {
   "codemirror_mode": {
    "name": "ipython",
    "version": 3
   },
   "file_extension": ".py",
   "mimetype": "text/x-python",
   "name": "python",
   "nbconvert_exporter": "python",
   "pygments_lexer": "ipython3",
   "version": "3.12.2"
  }
 },
 "nbformat": 4,
 "nbformat_minor": 2
}
