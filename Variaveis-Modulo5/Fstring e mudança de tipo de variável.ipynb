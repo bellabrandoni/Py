{
 "cells": [
  {
   "cell_type": "markdown",
   "id": "a7222466",
   "metadata": {},
   "source": [
    "### F-string - uma Opção de format\n"
   ]
  },
  {
   "cell_type": "code",
   "execution_count": 3,
   "id": "66c75af4",
   "metadata": {},
   "outputs": [
    {
     "name": "stdout",
     "output_type": "stream",
     "text": [
      "O faturamento foi de 1000 e o lucro de 600\n",
      "O faturamento foi de 1000 e o lucro de 600\n"
     ]
    }
   ],
   "source": [
    "faturamento = 1000\n",
    "custo = 400\n",
    "\n",
    "lucro = faturamento - custo\n",
    "\n",
    "# com format\n",
    "print(\"O faturamento foi de {} e o lucro de {}\".format(faturamento, faturamento-custo))\n",
    "\n",
    "# com f-string\n",
    "print(f\"O faturamento foi de {faturamento} e o lucro de {faturamento-custo}\")"
   ]
  },
  {
   "cell_type": "markdown",
   "id": "917d7cc5",
   "metadata": {},
   "source": [
    "### Mudança de tipo de variável"
   ]
  },
  {
   "cell_type": "code",
   "execution_count": null,
   "id": "3c7c40e7",
   "metadata": {},
   "outputs": [],
   "source": [
    "faturamento = input(\"Insira o faturamento\")\n",
    "custo = input(\"Insira o custo\")\n",
    "\n",
    "lucro = faturamento - custo\n",
    "\n",
    "print(lucro)\n",
    "#Rdesposta do input dará um erro TypeError: unsupported operand type(s) for -: 'str' and 'str' -> strings sendo calculadas com sinais de operação matemática.\n"
   ]
  },
  {
   "cell_type": "code",
   "execution_count": 5,
   "id": "8d612158",
   "metadata": {},
   "outputs": [
    {
     "name": "stdout",
     "output_type": "stream",
     "text": [
      "600\n"
     ]
    }
   ],
   "source": [
    "#Resolução -> Mudança de string para int(transformando os inputs em número inteiro)\n",
    "faturamento = int(input(\"Insira o faturamento\"))\n",
    "custo = int(input(\"Insira o custo\"))\n",
    "\n",
    "lucro = faturamento - custo\n",
    "print(lucro)\n",
    "\n",
    "# str -> muda para string\n",
    "\n",
    "faturamento - str(input(\"Insira uma string(texto)\"))\n",
    "# int -> muda para inteiro\n",
    "# float -> muda para float\n",
    "faturamento =(float(input(\"Insira um número flutuante\")))"
   ]
  }
 ],
 "metadata": {
  "kernelspec": {
   "display_name": "Python 3 (ipykernel)",
   "language": "python",
   "name": "python3"
  },
  "language_info": {
   "codemirror_mode": {
    "name": "ipython",
    "version": 3
   },
   "file_extension": ".py",
   "mimetype": "text/x-python",
   "name": "python",
   "nbconvert_exporter": "python",
   "pygments_lexer": "ipython3",
   "version": "3.12.2"
  }
 },
 "nbformat": 4,
 "nbformat_minor": 5
}
