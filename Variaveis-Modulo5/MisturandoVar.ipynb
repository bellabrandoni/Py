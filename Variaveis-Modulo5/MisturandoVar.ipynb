{
 "cells": [
  {
   "cell_type": "code",
   "execution_count": null,
   "metadata": {},
   "outputs": [],
   "source": [
    "faturamento = 1000\n",
    "\n",
    "print('O faturamento da loja foi ' + faturamento)\n",
    "\"\"\"O print vai gerar um erro - só podemos concatenar string com String \"\"\"\n",
    "\n",
    "#Para corrigir o erro precisamos tranformar o número em uma String - formato de texto para conseguir concaenar\n"
   ]
  },
  {
   "cell_type": "code",
   "execution_count": null,
   "metadata": {},
   "outputs": [],
   "source": [
    "#Para corrigir o erro precisamos tranformar o número em uma String - formato de texto para conseguir concaenar\n",
    "\n",
    "faturamentos = 1000\n",
    "print(\"O faturamento da loja foi \" + str(faturamentos))"
   ]
  },
  {
   "cell_type": "code",
   "execution_count": 3,
   "metadata": {},
   "outputs": [
    {
     "name": "stdout",
     "output_type": "stream",
     "text": [
      " O faturamento da loja foi 2000. O custo da loja foi 500. Assim, o lucro da loja foi 1500. \n"
     ]
    }
   ],
   "source": [
    "#Método Format\n",
    "faturamento = 2000\n",
    "custo = 500\n",
    "lucro = faturamento - custo\n",
    "print(\" O faturamento da loja foi {}. O custo da loja foi {}. Assim, o lucro da loja foi {}. \".format(faturamento, custo, lucro))"
   ]
  }
 ],
 "metadata": {
  "kernelspec": {
   "display_name": "Python 3",
   "language": "python",
   "name": "python3"
  },
  "language_info": {
   "codemirror_mode": {
    "name": "ipython",
    "version": 3
   },
   "file_extension": ".py",
   "mimetype": "text/x-python",
   "name": "python",
   "nbconvert_exporter": "python",
   "pygments_lexer": "ipython3",
   "version": "3.10.11"
  }
 },
 "nbformat": 4,
 "nbformat_minor": 4
}
