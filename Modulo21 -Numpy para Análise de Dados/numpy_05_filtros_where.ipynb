{
 "cells": [
  {
   "cell_type": "markdown",
   "metadata": {},
   "source": [
    "# Guia de Introdução ao NumPy\n",
    "\n",
    "NumPy, que significa Numerical Python, é uma biblioteca fundamental para a computação científica em Python. Ela fornece suporte para arrays e matrizes, além de funções matemáticas para operações com esses objetos. É, também, a base da biblioteca Pandas.\n",
    "\n"
   ]
  },
  {
   "cell_type": "markdown",
   "metadata": {},
   "source": [
    "## Filtros e np.where()\n",
    "\n",
    "A função `np.where()` é muito útil para fazer uma seleção condicional de elementos de um array. Por exemplo, em uma empresa, você pode querer identificar quais funcionários têm salários acima da média.\n"
   ]
  },
  {
   "cell_type": "code",
   "execution_count": 1,
   "metadata": {
    "ExecuteTime": {
     "end_time": "2023-07-03T19:29:17.084820600Z",
     "start_time": "2023-07-03T19:29:16.980857600Z"
    },
    "collapsed": false,
    "jupyter": {
     "outputs_hidden": false
    }
   },
   "outputs": [
    {
     "name": "stdout",
     "output_type": "stream",
     "text": [
      "3714.285714285714\n"
     ]
    }
   ],
   "source": [
    "import numpy as np\n",
    "\n",
    "# Salários dos funcionários\n",
    "salarios = np.array([3000, 3500, 4000, 2000, 4500, 4000, 5000])\n",
    "\n",
    "# Calcular a média salarial\n",
    "media_salarial = np.mean(salarios)\n",
    "\n",
    "print(media_salarial)"
   ]
  },
  {
   "cell_type": "code",
   "execution_count": 2,
   "metadata": {
    "ExecuteTime": {
     "end_time": "2023-07-03T19:29:17.129154400Z",
     "start_time": "2023-07-03T19:29:17.086939600Z"
    },
    "collapsed": false,
    "jupyter": {
     "outputs_hidden": false
    }
   },
   "outputs": [
    {
     "name": "stdout",
     "output_type": "stream",
     "text": [
      "(array([2, 4, 5, 6], dtype=int64),)\n"
     ]
    }
   ],
   "source": [
    "# Identificar funcionários com salários acima da média - respondendo as posicoes dentro doa array\n",
    "funcionarios_acima_media = np.where(salarios > media_salarial)\n",
    "#printando dentro do array salarios os salarios acima da média\n",
    "print(funcionarios_acima_media)"
   ]
  },
  {
   "cell_type": "code",
   "execution_count": 3,
   "metadata": {
    "ExecuteTime": {
     "end_time": "2023-07-03T19:29:17.140319500Z",
     "start_time": "2023-07-03T19:29:17.101027100Z"
    },
    "collapsed": false,
    "jupyter": {
     "outputs_hidden": false
    }
   },
   "outputs": [
    {
     "name": "stdout",
     "output_type": "stream",
     "text": [
      "[4000 4500 4000 5000]\n"
     ]
    }
   ],
   "source": [
    "#filtrando direto do array, sem fazer o filtro where\n",
    "print(salarios[funcionarios_acima_media])"
   ]
  },
  {
   "cell_type": "code",
   "execution_count": 4,
   "metadata": {},
   "outputs": [
    {
     "name": "stdout",
     "output_type": "stream",
     "text": [
      "[False False  True False  True  True  True]\n"
     ]
    }
   ],
   "source": [
    "print(salarios > media_salarial)"
   ]
  },
  {
   "cell_type": "code",
   "execution_count": 5,
   "metadata": {
    "ExecuteTime": {
     "end_time": "2023-07-03T19:29:17.140319500Z",
     "start_time": "2023-07-03T19:29:17.129154400Z"
    },
    "collapsed": false,
    "jupyter": {
     "outputs_hidden": false
    }
   },
   "outputs": [
    {
     "name": "stdout",
     "output_type": "stream",
     "text": [
      "[4000 4500 4000 5000]\n"
     ]
    }
   ],
   "source": [
    "print(salarios[salarios > media_salarial])"
   ]
  },
  {
   "cell_type": "code",
   "execution_count": 6,
   "metadata": {
    "ExecuteTime": {
     "end_time": "2023-07-03T19:29:17.163129500Z",
     "start_time": "2023-07-03T19:29:17.132160500Z"
    },
    "collapsed": false,
    "jupyter": {
     "outputs_hidden": false
    }
   },
   "outputs": [
    {
     "name": "stdout",
     "output_type": "stream",
     "text": [
      "[4000 4500 4000 5000]\n"
     ]
    }
   ],
   "source": [
    "print(salarios[salarios >= 4000]) "
   ]
  },
  {
   "cell_type": "code",
   "execution_count": 7,
   "metadata": {
    "ExecuteTime": {
     "end_time": "2023-07-03T19:29:17.206393700Z",
     "start_time": "2023-07-03T19:29:17.147685100Z"
    },
    "collapsed": false,
    "jupyter": {
     "outputs_hidden": false
    }
   },
   "outputs": [
    {
     "name": "stdout",
     "output_type": "stream",
     "text": [
      "['abaixo da média' 'abaixo da média' 'acima da média' 'abaixo da média'\n",
      " 'acima da média' 'acima da média' 'acima da média']\n"
     ]
    }
   ],
   "source": [
    "#substituindo pelo texto os salarios acima da média e os salarios abaixo da media \n",
    "print(np.where(salarios > media_salarial, 'acima da média', 'abaixo da média'))\n"
   ]
  },
  {
   "cell_type": "code",
   "execution_count": 2,
   "metadata": {
    "ExecuteTime": {
     "end_time": "2023-07-03T19:29:17.208467Z",
     "start_time": "2023-07-03T19:29:17.162128100Z"
    },
    "collapsed": false,
    "jupyter": {
     "outputs_hidden": false
    }
   },
   "outputs": [
    {
     "name": "stdout",
     "output_type": "stream",
     "text": [
      "[3000 3500 4000 2000 4500 4000 5000]\n",
      "[3300. 3850. 4000. 2200. 4500. 4000. 5000.]\n"
     ]
    }
   ],
   "source": [
    "# dar bônus de 10% para os funcionários com salários abaixo da média, se não for abaixo da média continuar com o salario anterior\n",
    "salarios_bonus = np.where(salarios < media_salarial, salarios * 1.1, salarios)\n",
    "print(salarios)\n",
    "print(salarios_bonus)"
   ]
  },
  {
   "cell_type": "code",
   "execution_count": 9,
   "metadata": {
    "ExecuteTime": {
     "end_time": "2023-07-03T19:29:17.209470100Z",
     "start_time": "2023-07-03T19:29:17.178638900Z"
    },
    "collapsed": false,
    "jupyter": {
     "outputs_hidden": false
    }
   },
   "outputs": [
    {
     "name": "stdout",
     "output_type": "stream",
     "text": [
      "[3000 3500 4000 2000 4500 4000 5000]\n"
     ]
    }
   ],
   "source": [
    "# considerando novamente nossos salários originais\n",
    "print(salarios)"
   ]
  },
  {
   "cell_type": "code",
   "execution_count": 10,
   "metadata": {
    "ExecuteTime": {
     "end_time": "2023-07-03T19:29:17.209470100Z",
     "start_time": "2023-07-03T19:29:17.193976700Z"
    },
    "collapsed": false,
    "jupyter": {
     "outputs_hidden": false
    }
   },
   "outputs": [
    {
     "name": "stdout",
     "output_type": "stream",
     "text": [
      "(array([0, 1, 2, 4, 5], dtype=int64),)\n"
     ]
    }
   ],
   "source": [
    "# filtrar os salários entre 3000 e 4500 com where\n",
    "print(np.where((salarios >= 3000) & (salarios <= 4500)))"
   ]
  },
  {
   "cell_type": "code",
   "execution_count": 3,
   "metadata": {
    "ExecuteTime": {
     "end_time": "2023-07-03T19:29:17.224062Z",
     "start_time": "2023-07-03T19:29:17.209470100Z"
    },
    "collapsed": false,
    "jupyter": {
     "outputs_hidden": false
    }
   },
   "outputs": [
    {
     "name": "stdout",
     "output_type": "stream",
     "text": [
      "[3000 3500 4000 2000 4500 4000 5000]\n",
      "[3150. 3675. 4200. 2000. 4725. 4200. 5000.]\n"
     ]
    }
   ],
   "source": [
    "#Filtrando salarios maior  que 3000 e menor que 4500 e ajustando salarios maior que 3000 com 15% e mantendo salario maior que 4500\n",
    "print(salarios)\n",
    "salarios_ajustados = np.where((salarios >= 3000) & (salarios <= 4500), salarios * 1.05, salarios)\n",
    "print(salarios_ajustados)\n"
   ]
  },
  {
   "cell_type": "code",
   "execution_count": 4,
   "metadata": {
    "ExecuteTime": {
     "end_time": "2023-07-03T19:29:17.284416500Z",
     "start_time": "2023-07-03T19:29:17.225063300Z"
    },
    "collapsed": false,
    "jupyter": {
     "outputs_hidden": false
    }
   },
   "outputs": [
    {
     "name": "stdout",
     "output_type": "stream",
     "text": [
      "(array([3, 4, 6]),)\n"
     ]
    }
   ],
   "source": [
    "# filtrar os salários abaixo de 3000 ou (or|) acima de 4500 com where\n",
    "print(np.where((salarios_ajustados < 3000) | (salarios_ajustados > 4500))) "
   ]
  },
  {
   "cell_type": "code",
   "execution_count": 13,
   "metadata": {
    "ExecuteTime": {
     "end_time": "2023-07-03T19:29:17.297737300Z",
     "start_time": "2023-07-03T19:29:17.239696500Z"
    },
    "collapsed": false,
    "jupyter": {
     "outputs_hidden": false
    }
   },
   "outputs": [
    {
     "name": "stdout",
     "output_type": "stream",
     "text": [
      "[3150.  3675.  4200.  2200.  5197.5 4200.  5500. ]\n"
     ]
    }
   ],
   "source": [
    "#Filtrando salarios menor que 3000 ou acima de 4500 e ajustando salarios maior que 3000 com 10% e mantendo salario maior que 4500\n",
    "salarios_ajustados = np.where((salarios_ajustados < 3000) | (salarios_ajustados > 4500), salarios_ajustados * 1.1, salarios_ajustados)\n",
    "print(salarios_ajustados) "
   ]
  },
  {
   "cell_type": "code",
   "execution_count": null,
   "metadata": {
    "collapsed": false,
    "jupyter": {
     "outputs_hidden": false
    }
   },
   "outputs": [],
   "source": []
  }
 ],
 "metadata": {
  "kernelspec": {
   "display_name": "Python 3",
   "language": "python",
   "name": "python3"
  },
  "language_info": {
   "codemirror_mode": {
    "name": "ipython",
    "version": 3
   },
   "file_extension": ".py",
   "mimetype": "text/x-python",
   "name": "python",
   "nbconvert_exporter": "python",
   "pygments_lexer": "ipython3",
   "version": "3.11.9"
  }
 },
 "nbformat": 4,
 "nbformat_minor": 4
}
