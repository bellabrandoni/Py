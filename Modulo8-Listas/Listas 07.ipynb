{
 "cells": [
  {
   "cell_type": "markdown",
   "metadata": {},
   "source": [
    "# Print de Listas\n",
    "\n",
    "2 Opções:\n",
    "- print \"normal\"\n",
    "- método join -> texto.join(lista)"
   ]
  },
  {
   "cell_type": "code",
   "execution_count": 2,
   "metadata": {},
   "outputs": [
    {
     "name": "stdout",
     "output_type": "stream",
     "text": [
      "['apple tv', 'mac', 'iphone x', 'iphone 11', 'IPad', 'apple watch', 'mac book', 'airpods']\n",
      "apple tv;mac;iphone x;iphone 11;IPad;apple watch;mac book;airpods\n",
      "apple tv\n",
      "mac\n",
      "iphone x\n",
      "iphone 11\n",
      "IPad\n",
      "apple watch\n",
      "mac book\n",
      "airpods\n"
     ]
    }
   ],
   "source": [
    "produtos = ['apple tv', 'mac', 'iphone x', 'iphone 11', 'IPad', 'apple watch', 'mac book', 'airpods']\n",
    "print(produtos)\n",
    "\n",
    "#Para usar o join precisamos definir o delimitador(\"-\" ou \",\"ou \";\" etc)\n",
    "\n",
    "#delimitaor ponto e virgula\n",
    "print(';'.join(produtos))\n",
    "\n",
    "#delimitador enter\n",
    "print('\\n'.join(produtos))"
   ]
  },
  {
   "cell_type": "markdown",
   "metadata": {},
   "source": [
    "Lembrando do método split de strings:\n",
    "\n",
    "lista = texto.split(separador)"
   ]
  },
  {
   "cell_type": "code",
   "execution_count": 4,
   "metadata": {},
   "outputs": [
    {
     "name": "stdout",
     "output_type": "stream",
     "text": [
      "['apple tv', ' mac', ' iphone x', ' iphone 11', ' IPad', ' apple watch', ' mac book', ' airpods']\n",
      "['apple tv', 'mac', 'iphone x', 'iphone 11', 'IPad', 'apple watch', 'mac book', 'airpods']\n"
     ]
    }
   ],
   "source": [
    "produtos = 'apple tv, mac, iphone x, iphone 11, IPad, apple watch, mac book, airpods'\n",
    "\n",
    "#Metdo split -> o contrario do join, coloca um texto unico, separado por um delimitador dentro de uma lista\n",
    "\n",
    "lista = produtos.split(',')\n",
    "print(lista)\n",
    "\n",
    "#retirando espaços depois da virgula\n",
    "lista = produtos.split(', ')\n",
    "print(lista)\n"
   ]
  }
 ],
 "metadata": {
  "kernelspec": {
   "display_name": "Python 3",
   "language": "python",
   "name": "python3"
  },
  "language_info": {
   "codemirror_mode": {
    "name": "ipython",
    "version": 3
   },
   "file_extension": ".py",
   "mimetype": "text/x-python",
   "name": "python",
   "nbconvert_exporter": "python",
   "pygments_lexer": "ipython3",
   "version": "3.10.11"
  }
 },
 "nbformat": 4,
 "nbformat_minor": 4
}
