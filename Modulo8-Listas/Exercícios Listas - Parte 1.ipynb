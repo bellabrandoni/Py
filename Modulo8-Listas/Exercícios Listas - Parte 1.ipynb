{
 "cells": [
  {
   "cell_type": "markdown",
   "metadata": {},
   "source": [
    "# Exercícios\n",
    "\n",
    "## 1. Faturamento do Melhor e do Pior Mês do Ano\n",
    "\n",
    "Qual foi o valor de vendas do melhor mês do Ano?\n",
    "E valor do pior mês do ano?"
   ]
  },
  {
   "cell_type": "code",
   "execution_count": 23,
   "metadata": {},
   "outputs": [
    {
     "name": "stdout",
     "output_type": "stream",
     "text": [
      "[25000, 29000, 22200, 17750, 15870, 19900, 19850, 20120, 17540, 15555, 49051, 9650]\n",
      "49051\n",
      "9650\n"
     ]
    }
   ],
   "source": [
    "meses = ['jan', 'fev', 'mar', 'abr', 'mai', 'jun', 'jul', 'ago', 'set', 'out', 'nov', 'dez']\n",
    "vendas_1sem = [25000, 29000, 22200, 17750, 15870, 19900]\n",
    "vendas_2sem = [19850, 20120, 17540, 15555, 49051, 9650]\n",
    "\n",
    "vendas_1sem.extend(vendas_2sem)\n",
    "print(vendas_1sem)\n",
    "\n",
    "maior_valor = max(vendas_1sem)\n",
    "print(maior_valor)\n",
    "\n",
    "menor_valor = min(vendas_1sem)\n",
    "print(menor_valor)"
   ]
  },
  {
   "cell_type": "markdown",
   "metadata": {},
   "source": [
    "## 2. Continuação\n",
    "\n",
    "Agora relacione as duas listas para printar 'O melhor mês do ano foi {} com {} vendas' e o mesmo para o pior mês do ano.\n",
    "\n",
    "Calcule também o faturamento total do Ano e quanto que o melhor mês representou do faturamento total.\n",
    "\n",
    "Obs: Para o faturamento total, pode usar a função sum(lista) que soma todos os itens de uma lista\n"
   ]
  },
  {
   "cell_type": "code",
   "execution_count": 27,
   "metadata": {},
   "outputs": [
    {
     "name": "stdout",
     "output_type": "stream",
     "text": [
      "10\n",
      "11\n",
      "O melhor mês do ano foi nov com 49051 vendas\n",
      "O pior mês do ano foi dez com 9650 vendas\n",
      "Faturamento total: R$ 261486.00\n",
      "O melhor mês representou 18.8% das vendas do ano todo.\n"
     ]
    }
   ],
   "source": [
    "#Descobrindo o indice do maior valor\n",
    "\n",
    "i_maior_valor = vendas_1sem.index(maior_valor)\n",
    "print(i_maior_valor)\n",
    "\n",
    "#Descobrindo o indice do menor valor\n",
    "i_menor_valor = vendas_1sem.index(menor_valor)\n",
    "print(i_menor_valor)\n",
    "\n",
    "print('O melhor mês do ano foi {} com {} vendas'.format(meses[i_maior_valor],maior_valor))\n",
    "\n",
    "print('O pior mês do ano foi {} com {} vendas'.format(meses[i_menor_valor], menor_valor))\n",
    "\n",
    "fat_total = sum(vendas_1sem)\n",
    "print('Faturamento total: R$ {:.2f}'.format(fat_total))\n",
    "\n",
    "#Quanto o melhor mês representou no fat total\n",
    "percentual = maior_valor / fat_total\n",
    "print('O melhor mês representou {:.1%} das vendas do ano todo.'.format(percentual))"
   ]
  },
  {
   "cell_type": "markdown",
   "metadata": {},
   "source": [
    "## 3. Crie uma lista com o top 3 valores de vendas do ano (sem fazer \"no olho\")\n",
    "\n",
    "Dica: o método remove retira um item da lista."
   ]
  },
  {
   "cell_type": "code",
   "execution_count": 28,
   "metadata": {},
   "outputs": [
    {
     "name": "stdout",
     "output_type": "stream",
     "text": [
      "[25000, 29000, 22200, 17750, 15870, 19900, 19850, 20120, 17540, 15555, 49051, 9650]\n",
      "[49051, 29000, 25000]\n"
     ]
    }
   ],
   "source": [
    "#Adicionando o maior valor a lista de vendas 1 semestre\n",
    "\n",
    "top3 = []\n",
    "print(vendas_1sem)\n",
    "maior_valor = max(vendas_1sem)\n",
    "top3.append(maior_valor)\n",
    "#print(top3)\n",
    "\n",
    "#Removendo o maior valor para achar o segundo maior valor\n",
    "vendas_1sem.remove(maior_valor)\n",
    "#print(vendas_1sem)\n",
    "maior_valor = max(vendas_1sem)\n",
    "#print(maior_valor)\n",
    "top3.append(maior_valor)\n",
    "\n",
    "#removendo o segudo maior valor\n",
    "vendas_1sem.remove(maior_valor)\n",
    "#print(vendas_1sem)\n",
    "#print(top3)\n",
    "\n",
    "#3o lugar\n",
    "maior_valor = max(vendas_1sem)\n",
    "top3.append(maior_valor)\n",
    "print(top3)\n"
   ]
  }
 ],
 "metadata": {
  "kernelspec": {
   "display_name": "Python 3",
   "language": "python",
   "name": "python3"
  },
  "language_info": {
   "codemirror_mode": {
    "name": "ipython",
    "version": 3
   },
   "file_extension": ".py",
   "mimetype": "text/x-python",
   "name": "python",
   "nbconvert_exporter": "python",
   "pygments_lexer": "ipython3",
   "version": "3.10.11"
  }
 },
 "nbformat": 4,
 "nbformat_minor": 4
}
