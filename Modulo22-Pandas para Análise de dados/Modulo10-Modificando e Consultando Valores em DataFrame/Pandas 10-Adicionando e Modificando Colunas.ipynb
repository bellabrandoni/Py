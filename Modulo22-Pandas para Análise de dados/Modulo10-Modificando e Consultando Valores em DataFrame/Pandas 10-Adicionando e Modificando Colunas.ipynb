{
 "cells": [
  {
   "cell_type": "markdown",
   "metadata": {},
   "source": [
    "# Adicionando Colunas, Modificando Colunas e Valores"
   ]
  },
  {
   "cell_type": "markdown",
   "metadata": {},
   "source": [
    "### Vamos pegar o nosso dataframe novamente"
   ]
  },
  {
   "cell_type": "code",
   "execution_count": 3,
   "metadata": {},
   "outputs": [],
   "source": [
    "#importando biblioteca pandas\n",
    "import pandas as pd\n",
    "#importando biblioteca para ler characteres diferentes \n",
    "import chardet\n",
    "\n",
    "#importando biblioteca para criação de gráficos e visualizações de dados\n",
    "import matplotlib.pyplot as plt\n"
   ]
  },
  {
   "cell_type": "code",
   "execution_count": 4,
   "metadata": {},
   "outputs": [
    {
     "name": "stdout",
     "output_type": "stream",
     "text": [
      "Codificação detectada: ascii\n",
      "Codificação detectada: UTF-8-SIG\n"
     ]
    }
   ],
   "source": [
    "with open(\"Contoso - Vendas  - 2017.csv\", \"rb\") as f:\n",
    "    result = chardet.detect(f.read(100000))  # Analisa parte do arquivo\n",
    "    encoding_detected = result['encoding']\n",
    "\n",
    "print(f\"Codificação detectada: {encoding_detected}\")\n",
    "\n",
    "with open(\"Contoso - Cadastro Produtos.csv\", \"rb\") as f:\n",
    "    result = chardet.detect(f.read(100000))  # Analisa parte do arquivo\n",
    "    encoding_detected = result['encoding']\n",
    "\n",
    "print(f\"Codificação detectada: {encoding_detected}\")\n",
    "# Agora, tentar abrir o arquivo com a codificação correta\n"
   ]
  },
  {
   "cell_type": "markdown",
   "metadata": {},
   "source": [
    "- Preparando as bases de dados"
   ]
  },
  {
   "cell_type": "code",
   "execution_count": 5,
   "metadata": {},
   "outputs": [],
   "source": [
    "#importando os arquivos\n",
    "\n",
    "vendas_df = pd.read_csv('Contoso - Vendas  - 2017.csv', sep=';', encoding=encoding_detected)\n",
    "produtos_df = pd.read_csv(\"Contoso - Cadastro Produtos.csv\",sep=';', encoding=encoding_detected)\n",
    "lojas_df = pd.read_csv('Contoso - Lojas.csv',sep=';', encoding=encoding_detected)\n",
    "novo_produtos_df = pd.read_csv(\"Contoso - Cadastro Produtos.csv\",sep=';', encoding=encoding_detected)\n",
    "clientes_df = pd.read_csv('Contoso - Clientes.csv',sep=';', encoding=encoding_detected)\n",
    "\n",
    "#usaremos o display para ver todos os dataframes\n",
    "#display(vendas_df)\n"
   ]
  },
  {
   "cell_type": "code",
   "execution_count": 6,
   "metadata": {},
   "outputs": [],
   "source": [
    "#limpando apenas as colunas que queremos\n",
    "clientes_df = clientes_df[['ID Cliente', 'E-mail']]\n",
    "produtos_df = produtos_df[['ID Produto', 'Nome do Produto']]\n",
    "lojas_df = lojas_df[['ID Loja', 'Nome da Loja']]"
   ]
  },
  {
   "cell_type": "code",
   "execution_count": null,
   "metadata": {},
   "outputs": [],
   "source": [
    "#mesclando e renomeando os dataframes\n",
    "vendas_df = vendas_df.merge(produtos_df, on='ID Produto')\n",
    "vendas_df = vendas_df.merge(lojas_df, on='ID Loja')\n",
    "vendas_df = vendas_df.merge(clientes_df, on='ID Cliente').rename(columns={'E-mail': 'E-mail do Cliente'})\n",
    "display(vendas_df)"
   ]
  },
  {
   "cell_type": "markdown",
   "metadata": {},
   "source": [
    "### Agora, e se quisermos acrescentar uma coluna com o mês, o dia e o ano de cada venda (e não só a data completa)"
   ]
  },
  {
   "cell_type": "code",
   "execution_count": null,
   "metadata": {},
   "outputs": [],
   "source": [
    "#transformando o texto da coluna Data em datetime com a função to_datetime\n",
    "\n",
    "vendas_df['Data da Venda'] = pd.to_datetime(vendas_df['Data da Venda'], format='%d/%m/%Y')\n",
    "display(vendas_df)\n",
    "vendas_df.info()"
   ]
  },
  {
   "cell_type": "code",
   "execution_count": null,
   "metadata": {},
   "outputs": [],
   "source": [
    "#Criando coluna Ano da Venda\n",
    "\n",
    "vendas_df['Data da Venda'] = pd.to_datetime(vendas_df['Data da Venda'], format='%d/%m/%Y')\n",
    "vendas_df['Ano da Venda'] = vendas_df['Data da Venda'].dt.year\n",
    "\n",
    "#Criando coluna mes da Venda\n",
    "vendas_df['Mes da Venda'] = vendas_df['Data da Venda'].dt.month\n",
    "#Criando coluna dia da Venda\n",
    "vendas_df['Dia da Venda'] = vendas_df['Data da Venda'].dt.day\n",
    "display(vendas_df)\n",
    "vendas_df.info()"
   ]
  },
  {
   "cell_type": "code",
   "execution_count": null,
   "metadata": {},
   "outputs": [],
   "source": [
    "novo_produtos_df = pd.read_csv(\"Contoso - Cadastro Produtos.csv\",sep=';', encoding=encoding_detected)\n",
    "display(novo_produtos_df.head())\n",
    "#pegando as ultimas linhas do df\n",
    "#display(novo_produtos_df.tail())"
   ]
  },
  {
   "cell_type": "markdown",
   "metadata": {},
   "source": [
    "### Antes de entrar no próximo exemplo, precisamos falar de 2 métodos:\n",
    "    1. loc - permite pegar uma linha de acordo com o índice dela. Ele dá erro caso não encontre o índice. Isso é interessante principalmente quando o índice é uma informação relevante ao invés só do número do índice ou quando queremos pegar alguma linha específica do dataframe (ao invés de ir do início do dataframe até a linha 5, por exemplo).\n",
    "        Também podemos usar como loc[índice_linha, índice_coluna] para acessar um valor específico e modificá-lo.\n",
    "    2. iloc - enxerga o dataframe como linhas e colunas e consegue pegar o valor com um número de linha e um número de coluna. Repara que ele não analisa o valor do índice da linha e da coluna, apenas a posição importa.\n",
    "        Uso: iloc[num_linha, num_coluna]\n",
    "    \n",
    "        \n",
    "- Vendo na prática\n",
    "\n",
    "  Método  |  Baseado em                 |   Intervalos incluem o final?   |      Exemplo de seleção |\n",
    "  .loc[]  |  Nome do índice ou coluna   |     ✅ Sim                     |        df.loc['A', 'Nome']\n",
    "  .iloc[] |   Número da posição         |     ❌ Não                     |        df.iloc[0, 0]\n",
    "\n"
   ]
  },
  {
   "cell_type": "code",
   "execution_count": 37,
   "metadata": {},
   "outputs": [
    {
     "data": {
      "text/html": [
       "<div>\n",
       "<style scoped>\n",
       "    .dataframe tbody tr th:only-of-type {\n",
       "        vertical-align: middle;\n",
       "    }\n",
       "\n",
       "    .dataframe tbody tr th {\n",
       "        vertical-align: top;\n",
       "    }\n",
       "\n",
       "    .dataframe thead th {\n",
       "        text-align: right;\n",
       "    }\n",
       "</style>\n",
       "<table border=\"1\" class=\"dataframe\">\n",
       "  <thead>\n",
       "    <tr style=\"text-align: right;\">\n",
       "      <th></th>\n",
       "      <th>Descricao do Produto</th>\n",
       "      <th>Fabricante</th>\n",
       "      <th>Nome da Marca</th>\n",
       "      <th>Tipo</th>\n",
       "      <th>Custo Unitario</th>\n",
       "      <th>Preco Unitario</th>\n",
       "      <th>ID Produto</th>\n",
       "      <th>ID Subcategoria</th>\n",
       "    </tr>\n",
       "    <tr>\n",
       "      <th>Nome do Produto</th>\n",
       "      <th></th>\n",
       "      <th></th>\n",
       "      <th></th>\n",
       "      <th></th>\n",
       "      <th></th>\n",
       "      <th></th>\n",
       "      <th></th>\n",
       "      <th></th>\n",
       "    </tr>\n",
       "  </thead>\n",
       "  <tbody>\n",
       "    <tr>\n",
       "      <th>Contoso Wireless Laser Mouse E50 Grey</th>\n",
       "      <td>Advanced 2.4 GHz cordless technology makes fre...</td>\n",
       "      <td>Contoso, Ltd</td>\n",
       "      <td>Contoso</td>\n",
       "      <td>Econômico</td>\n",
       "      <td>10,69</td>\n",
       "      <td>20,96</td>\n",
       "      <td>873</td>\n",
       "      <td>22</td>\n",
       "    </tr>\n",
       "    <tr>\n",
       "      <th>Contoso Optical Wheel OEM PS/2 Mouse E60 Grey</th>\n",
       "      <td>PS/2 mouse, 6 feet mouse cable</td>\n",
       "      <td>Contoso, Ltd</td>\n",
       "      <td>Contoso</td>\n",
       "      <td>Econômico</td>\n",
       "      <td>6,63</td>\n",
       "      <td>13</td>\n",
       "      <td>879</td>\n",
       "      <td>22</td>\n",
       "    </tr>\n",
       "    <tr>\n",
       "      <th>Contoso Optical Wheel OEM PS/2 Mouse E60 Black</th>\n",
       "      <td>PS/2 mouse, 6 feet mouse cable</td>\n",
       "      <td>Contoso, Ltd</td>\n",
       "      <td>Contoso</td>\n",
       "      <td>Econômico</td>\n",
       "      <td>6,63</td>\n",
       "      <td>13</td>\n",
       "      <td>880</td>\n",
       "      <td>22</td>\n",
       "    </tr>\n",
       "    <tr>\n",
       "      <th>Contoso Optical Wheel OEM PS/2 Mouse E60 White</th>\n",
       "      <td>PS/2 mouse, 6 feet mouse cable</td>\n",
       "      <td>Contoso, Ltd</td>\n",
       "      <td>Contoso</td>\n",
       "      <td>Econômico</td>\n",
       "      <td>6,63</td>\n",
       "      <td>13</td>\n",
       "      <td>881</td>\n",
       "      <td>22</td>\n",
       "    </tr>\n",
       "    <tr>\n",
       "      <th>Contoso Optical Wheel OEM PS/2 Mouse E60 Silver</th>\n",
       "      <td>PS/2 mouse, 6 feet mouse cable</td>\n",
       "      <td>Contoso, Ltd</td>\n",
       "      <td>Contoso</td>\n",
       "      <td>Econômico</td>\n",
       "      <td>6,63</td>\n",
       "      <td>13</td>\n",
       "      <td>882</td>\n",
       "      <td>22</td>\n",
       "    </tr>\n",
       "  </tbody>\n",
       "</table>\n",
       "</div>"
      ],
      "text/plain": [
       "                                                                              Descricao do Produto  \\\n",
       "Nome do Produto                                                                                      \n",
       "Contoso Wireless Laser Mouse E50 Grey            Advanced 2.4 GHz cordless technology makes fre...   \n",
       "Contoso Optical Wheel OEM PS/2 Mouse E60 Grey                       PS/2 mouse, 6 feet mouse cable   \n",
       "Contoso Optical Wheel OEM PS/2 Mouse E60 Black                      PS/2 mouse, 6 feet mouse cable   \n",
       "Contoso Optical Wheel OEM PS/2 Mouse E60 White                      PS/2 mouse, 6 feet mouse cable   \n",
       "Contoso Optical Wheel OEM PS/2 Mouse E60 Silver                     PS/2 mouse, 6 feet mouse cable   \n",
       "\n",
       "                                                   Fabricante Nome da Marca  \\\n",
       "Nome do Produto                                                               \n",
       "Contoso Wireless Laser Mouse E50 Grey            Contoso, Ltd       Contoso   \n",
       "Contoso Optical Wheel OEM PS/2 Mouse E60 Grey    Contoso, Ltd       Contoso   \n",
       "Contoso Optical Wheel OEM PS/2 Mouse E60 Black   Contoso, Ltd       Contoso   \n",
       "Contoso Optical Wheel OEM PS/2 Mouse E60 White   Contoso, Ltd       Contoso   \n",
       "Contoso Optical Wheel OEM PS/2 Mouse E60 Silver  Contoso, Ltd       Contoso   \n",
       "\n",
       "                                                      Tipo Custo Unitario  \\\n",
       "Nome do Produto                                                             \n",
       "Contoso Wireless Laser Mouse E50 Grey            Econômico          10,69   \n",
       "Contoso Optical Wheel OEM PS/2 Mouse E60 Grey    Econômico           6,63   \n",
       "Contoso Optical Wheel OEM PS/2 Mouse E60 Black   Econômico           6,63   \n",
       "Contoso Optical Wheel OEM PS/2 Mouse E60 White   Econômico           6,63   \n",
       "Contoso Optical Wheel OEM PS/2 Mouse E60 Silver  Econômico           6,63   \n",
       "\n",
       "                                                Preco Unitario  ID Produto  \\\n",
       "Nome do Produto                                                              \n",
       "Contoso Wireless Laser Mouse E50 Grey                    20,96         873   \n",
       "Contoso Optical Wheel OEM PS/2 Mouse E60 Grey               13         879   \n",
       "Contoso Optical Wheel OEM PS/2 Mouse E60 Black              13         880   \n",
       "Contoso Optical Wheel OEM PS/2 Mouse E60 White              13         881   \n",
       "Contoso Optical Wheel OEM PS/2 Mouse E60 Silver             13         882   \n",
       "\n",
       "                                                 ID Subcategoria  \n",
       "Nome do Produto                                                   \n",
       "Contoso Wireless Laser Mouse E50 Grey                         22  \n",
       "Contoso Optical Wheel OEM PS/2 Mouse E60 Grey                 22  \n",
       "Contoso Optical Wheel OEM PS/2 Mouse E60 Black                22  \n",
       "Contoso Optical Wheel OEM PS/2 Mouse E60 White                22  \n",
       "Contoso Optical Wheel OEM PS/2 Mouse E60 Silver               22  "
      ]
     },
     "metadata": {},
     "output_type": "display_data"
    }
   ],
   "source": [
    "#transformando a coluna 'Nome do Produto' como index do df\n",
    "novo_produtos_df = novo_produtos_df.set_index('Nome do Produto')\n",
    "display(novo_produtos_df.head())"
   ]
  },
  {
   "cell_type": "code",
   "execution_count": 33,
   "metadata": {},
   "outputs": [
    {
     "name": "stdout",
     "output_type": "stream",
     "text": [
      "13\n"
     ]
    }
   ],
   "source": [
    "#vamos pegar o preço produto Contoso Optical Wheel OEM PS/2 Mouse E60 Black\n",
    "#por loc\n",
    "#utilizando loc para acessar a linha a partir do novo index  'Nome do Produto' c com o \n",
    "#novo_produtos_df.loc[['Contoso Optical Wheel OEM PS/2 Mouse E60 Black']]\n",
    "#Acessando uma Informação expecifica utilizando loc - acessando informação apartir do index 'Contoso Optical..' e o preco do produto com o nome da coluna com loc\n",
    "#novo_produtos_df.loc['Contoso Optical Wheel OEM PS/2 Mouse E60 Black','Preco Unitario']\n",
    "\n",
    "#por iloc - passa o numero da linha e da coluna - começando a contagem fora o indice \n",
    "#iloc[linha, coluna]\n",
    "print(novo_produtos_df.iloc[2, 5])\n",
    "\n"
   ]
  },
  {
   "cell_type": "markdown",
   "metadata": {},
   "source": [
    "### A empresa decidiu aumentar o preço do produto ID 873 (Contoso Wireless Laser Mouse E50 Grey) para 23 reais. Como fazemos, para modificar isso na nossa base?"
   ]
  },
  {
   "cell_type": "code",
   "execution_count": null,
   "metadata": {},
   "outputs": [],
   "source": [
    "#Acessando uma Informação expecifica utilizando loc e atribuindo um novo valor ao indice 'Contoso Wireless Laser...na coluna de preco unitario'\n",
    "novo_produtos_df.loc['Contoso Wireless Laser Mouse E50 Grey', 'Preco Unitario'] = 23\n",
    "display(novo_produtos_df.head())"
   ]
  },
  {
   "cell_type": "code",
   "execution_count": null,
   "metadata": {},
   "outputs": [
    {
     "data": {
      "text/html": [
       "<div>\n",
       "<style scoped>\n",
       "    .dataframe tbody tr th:only-of-type {\n",
       "        vertical-align: middle;\n",
       "    }\n",
       "\n",
       "    .dataframe tbody tr th {\n",
       "        vertical-align: top;\n",
       "    }\n",
       "\n",
       "    .dataframe thead th {\n",
       "        text-align: right;\n",
       "    }\n",
       "</style>\n",
       "<table border=\"1\" class=\"dataframe\">\n",
       "  <thead>\n",
       "    <tr style=\"text-align: right;\">\n",
       "      <th></th>\n",
       "      <th>Descricao do Produto</th>\n",
       "      <th>Fabricante</th>\n",
       "      <th>Nome da Marca</th>\n",
       "      <th>Tipo</th>\n",
       "      <th>Custo Unitario</th>\n",
       "      <th>Preco Unitario</th>\n",
       "      <th>ID Produto</th>\n",
       "      <th>ID Subcategoria</th>\n",
       "    </tr>\n",
       "    <tr>\n",
       "      <th>Nome do Produto</th>\n",
       "      <th></th>\n",
       "      <th></th>\n",
       "      <th></th>\n",
       "      <th></th>\n",
       "      <th></th>\n",
       "      <th></th>\n",
       "      <th></th>\n",
       "      <th></th>\n",
       "    </tr>\n",
       "  </thead>\n",
       "  <tbody>\n",
       "    <tr>\n",
       "      <th>Contoso Wireless Laser Mouse E50 Grey</th>\n",
       "      <td>Advanced 2.4 GHz cordless technology makes fre...</td>\n",
       "      <td>Contoso, Ltd</td>\n",
       "      <td>Contoso</td>\n",
       "      <td>Econômico</td>\n",
       "      <td>10,69</td>\n",
       "      <td>23</td>\n",
       "      <td>873</td>\n",
       "      <td>22</td>\n",
       "    </tr>\n",
       "    <tr>\n",
       "      <th>Contoso Optical Wheel OEM PS/2 Mouse E60 Grey</th>\n",
       "      <td>PS/2 mouse, 6 feet mouse cable</td>\n",
       "      <td>Contoso, Ltd</td>\n",
       "      <td>Contoso</td>\n",
       "      <td>Econômico</td>\n",
       "      <td>6,63</td>\n",
       "      <td>13</td>\n",
       "      <td>879</td>\n",
       "      <td>22</td>\n",
       "    </tr>\n",
       "    <tr>\n",
       "      <th>Contoso Optical Wheel OEM PS/2 Mouse E60 Black</th>\n",
       "      <td>PS/2 mouse, 6 feet mouse cable</td>\n",
       "      <td>Contoso, Ltd</td>\n",
       "      <td>Contoso</td>\n",
       "      <td>Econômico</td>\n",
       "      <td>6,63</td>\n",
       "      <td>13</td>\n",
       "      <td>880</td>\n",
       "      <td>22</td>\n",
       "    </tr>\n",
       "    <tr>\n",
       "      <th>Contoso Optical Wheel OEM PS/2 Mouse E60 White</th>\n",
       "      <td>PS/2 mouse, 6 feet mouse cable</td>\n",
       "      <td>Contoso, Ltd</td>\n",
       "      <td>Contoso</td>\n",
       "      <td>Econômico</td>\n",
       "      <td>6,63</td>\n",
       "      <td>13</td>\n",
       "      <td>881</td>\n",
       "      <td>22</td>\n",
       "    </tr>\n",
       "    <tr>\n",
       "      <th>Contoso Optical Wheel OEM PS/2 Mouse E60 Silver</th>\n",
       "      <td>PS/2 mouse, 6 feet mouse cable</td>\n",
       "      <td>Contoso, Ltd</td>\n",
       "      <td>Contoso</td>\n",
       "      <td>Econômico</td>\n",
       "      <td>6,63</td>\n",
       "      <td>13</td>\n",
       "      <td>882</td>\n",
       "      <td>22</td>\n",
       "    </tr>\n",
       "  </tbody>\n",
       "</table>\n",
       "</div>"
      ],
      "text/plain": [
       "                                                                              Descricao do Produto  \\\n",
       "Nome do Produto                                                                                      \n",
       "Contoso Wireless Laser Mouse E50 Grey            Advanced 2.4 GHz cordless technology makes fre...   \n",
       "Contoso Optical Wheel OEM PS/2 Mouse E60 Grey                       PS/2 mouse, 6 feet mouse cable   \n",
       "Contoso Optical Wheel OEM PS/2 Mouse E60 Black                      PS/2 mouse, 6 feet mouse cable   \n",
       "Contoso Optical Wheel OEM PS/2 Mouse E60 White                      PS/2 mouse, 6 feet mouse cable   \n",
       "Contoso Optical Wheel OEM PS/2 Mouse E60 Silver                     PS/2 mouse, 6 feet mouse cable   \n",
       "\n",
       "                                                   Fabricante Nome da Marca  \\\n",
       "Nome do Produto                                                               \n",
       "Contoso Wireless Laser Mouse E50 Grey            Contoso, Ltd       Contoso   \n",
       "Contoso Optical Wheel OEM PS/2 Mouse E60 Grey    Contoso, Ltd       Contoso   \n",
       "Contoso Optical Wheel OEM PS/2 Mouse E60 Black   Contoso, Ltd       Contoso   \n",
       "Contoso Optical Wheel OEM PS/2 Mouse E60 White   Contoso, Ltd       Contoso   \n",
       "Contoso Optical Wheel OEM PS/2 Mouse E60 Silver  Contoso, Ltd       Contoso   \n",
       "\n",
       "                                                      Tipo Custo Unitario  \\\n",
       "Nome do Produto                                                             \n",
       "Contoso Wireless Laser Mouse E50 Grey            Econômico          10,69   \n",
       "Contoso Optical Wheel OEM PS/2 Mouse E60 Grey    Econômico           6,63   \n",
       "Contoso Optical Wheel OEM PS/2 Mouse E60 Black   Econômico           6,63   \n",
       "Contoso Optical Wheel OEM PS/2 Mouse E60 White   Econômico           6,63   \n",
       "Contoso Optical Wheel OEM PS/2 Mouse E60 Silver  Econômico           6,63   \n",
       "\n",
       "                                                Preco Unitario  ID Produto  \\\n",
       "Nome do Produto                                                              \n",
       "Contoso Wireless Laser Mouse E50 Grey                       23         873   \n",
       "Contoso Optical Wheel OEM PS/2 Mouse E60 Grey               13         879   \n",
       "Contoso Optical Wheel OEM PS/2 Mouse E60 Black              13         880   \n",
       "Contoso Optical Wheel OEM PS/2 Mouse E60 White              13         881   \n",
       "Contoso Optical Wheel OEM PS/2 Mouse E60 Silver             13         882   \n",
       "\n",
       "                                                 ID Subcategoria  \n",
       "Nome do Produto                                                   \n",
       "Contoso Wireless Laser Mouse E50 Grey                         22  \n",
       "Contoso Optical Wheel OEM PS/2 Mouse E60 Grey                 22  \n",
       "Contoso Optical Wheel OEM PS/2 Mouse E60 Black                22  \n",
       "Contoso Optical Wheel OEM PS/2 Mouse E60 White                22  \n",
       "Contoso Optical Wheel OEM PS/2 Mouse E60 Silver               22  "
      ]
     },
     "metadata": {},
     "output_type": "display_data"
    }
   ],
   "source": [
    "#Acessando/filtrando com loc a coluna ID Produto que receb o valor 873 e tambem tem preco unitario = 23\n",
    "novo_produtos_df.loc[novo_produtos_df['ID Produto'] == 873, 'Preco Unitario'] = 23\n",
    "display(novo_produtos_df.head())"
   ]
  }
 ],
 "metadata": {
  "kernelspec": {
   "display_name": "Python 3",
   "language": "python",
   "name": "python3"
  },
  "language_info": {
   "codemirror_mode": {
    "name": "ipython",
    "version": 3
   },
   "file_extension": ".py",
   "mimetype": "text/x-python",
   "name": "python",
   "nbconvert_exporter": "python",
   "pygments_lexer": "ipython3",
   "version": "3.11.9"
  }
 },
 "nbformat": 4,
 "nbformat_minor": 4
}
