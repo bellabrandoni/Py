{
 "cells": [
  {
   "cell_type": "markdown",
   "metadata": {},
   "source": [
    "# Adicionando Colunas, Modificando Colunas e Valores"
   ]
  },
  {
   "cell_type": "markdown",
   "metadata": {},
   "source": [
    "### Vamos pegar o nosso dataframe novamente"
   ]
  },
  {
   "cell_type": "code",
   "execution_count": null,
   "metadata": {},
   "outputs": [],
   "source": [
    "#importando biblioteca pandas\n",
    "import pandas as pd\n",
    "#importando biblioteca para ler characteres diferentes \n",
    "import chardet\n",
    "\n",
    "#importando biblioteca para criação de gráficos e visualizações de dados\n",
    "import matplotlib.pyplot as plt\n"
   ]
  },
  {
   "cell_type": "code",
   "execution_count": null,
   "metadata": {},
   "outputs": [],
   "source": [
    "with open(\"Contoso - Vendas  - 2017.csv\", \"rb\") as f:\n",
    "    result = chardet.detect(f.read(100000))  # Analisa parte do arquivo\n",
    "    encoding_detected = result['encoding']\n",
    "\n",
    "print(f\"Codificação detectada: {encoding_detected}\")\n",
    "\n",
    "# Agora, tentar abrir o arquivo com a codificação correta\n"
   ]
  },
  {
   "cell_type": "markdown",
   "metadata": {},
   "source": [
    "- Preparando as bases de dados"
   ]
  },
  {
   "cell_type": "code",
   "execution_count": null,
   "metadata": {},
   "outputs": [],
   "source": [
    "\n",
    "#às vezes precisaremos mudar o encoding. Possiveis valores para testar:\n",
    "#encoding='latin1', encoding='ISO-8859-1', encoding='utf-8', encoding='cp1252'\n",
    "#lendo cada arquivo csv da pasta\n",
    "vendas_df = pd.read_csv('Contoso - Vendas  - 2017.csv', sep=';')\n",
    "produtos_df = pd.read_csv(\"Contoso - Cadastro Produtos.csv\",sep=';', encoding=encoding_detected)\n",
    "lojas_df = pd.read_csv('Contoso - Lojas.csv',sep=';', encoding=encoding_detected)\n",
    "novo_produtos_af = pd.read_csv(\"Contoso - Cadastro Produtos.csv\",sep=';', encoding=encoding_detected)\n",
    "clientes_df = pd.read_csv('Contoso - Clientes.csv',sep=';', encoding=encoding_detected)\n",
    "\n",
    "#usaremos o display para ver todos os dataframes\n",
    "#display(vendas_df)\n"
   ]
  },
  {
   "cell_type": "markdown",
   "metadata": {},
   "source": [
    "#usaremos o display para ver todos os dataframes\n",
    "display(vendas_df)\n",
    "display(produtos_df)\n",
    "display(lojas_df)\n",
    "display(clientes_df)"
   ]
  },
  {
   "cell_type": "markdown",
   "metadata": {},
   "source": [
    "-Vamos tirar as colunas inúteis do clientes_df ou pegar apenas as colunas que quisermos"
   ]
  },
  {
   "cell_type": "code",
   "execution_count": null,
   "metadata": {},
   "outputs": [],
   "source": [
    "#apagando colunas inuteis no df de cliente com .drop(), passando o eixo 1 que corresponde as colunas \n",
    "clientes_df = clientes_df.drop(['Unnamed: 7','Unnamed: 8','Unnamed: 9','Unnamed: 10'], axis=1)\n",
    "clientes_df "
   ]
  },
  {
   "cell_type": "code",
   "execution_count": null,
   "metadata": {},
   "outputs": [],
   "source": [
    "#selecionando colunas \n",
    "clientes_df = clientes_df[['ID Cliente','E-mail' ]]\n",
    "\n",
    "#selecionando colunas no df de produtos\n",
    "produtos_df = produtos_df[['ID Produto', 'Nome da Marca']]\n",
    "\n",
    "#selecionando colunas no df lojas\n",
    "lojas_df  = lojas_df[['ID Loja', 'Nome da Loja']]\n",
    "\n",
    "#printando um df com display\n",
    "display(produtos_df)"
   ]
  },
  {
   "cell_type": "code",
   "execution_count": null,
   "metadata": {},
   "outputs": [],
   "source": [
    "\n",
    "#renomeandocoluna ÿID Loja lojas_df\n",
    "lojas_df = lojas_df.rename(columns={'ÿID Loja': 'ID Loja'})\n",
    "lojas_df"
   ]
  },
  {
   "cell_type": "code",
   "execution_count": null,
   "metadata": {},
   "outputs": [],
   "source": [
    "#renomeando coluna ÿID Cliente no clientes_df\n",
    "clientes_df = clientes_df.rename(columns={'ÿID Cliente' : 'ID Cliente',\n",
    "                                          'E-mail': 'E-mail do Cliente'})\n",
    "clientes_df"
   ]
  },
  {
   "cell_type": "code",
   "execution_count": null,
   "metadata": {},
   "outputs": [],
   "source": [
    "#juntando os dataframes- passando o novo dataframe que recebe o antigo.merge(df que quer juntar, on='coluna que quer juntar')\n",
    "#on='coluna que quer juntar' = nome da coluna que faz referencia as duas tabelas\n",
    "vendas_df = vendas_df.merge(produtos_df, on='ID Produto')\n",
    "vendas_df = vendas_df.merge(lojas_df, on='ID Loja')\n",
    "#merge e mudando o nome da coluna \n",
    "vendas_df = vendas_df.merge(clientes_df, on='ID Cliente').rename(columns={'E-mail do Cliente_y': 'E-mail do Cliente'})\n",
    "\n",
    "#printando o novo df de vendas que contem novas colunas\n",
    "display(vendas_df)\n"
   ]
  },
  {
   "cell_type": "code",
   "execution_count": null,
   "metadata": {},
   "outputs": [],
   "source": [
    "vendas_df.info()"
   ]
  },
  {
   "cell_type": "markdown",
   "metadata": {},
   "source": [
    "### Agora, e se quisermos acrescentar uma coluna com o mês, o dia e o ano de cada venda (e não só a data completa)"
   ]
  },
  {
   "cell_type": "code",
   "execution_count": null,
   "metadata": {},
   "outputs": [],
   "source": [
    "#transformando o texto da coluna Data em datetime com a função to_datetime\n",
    "\n",
    "vendas_df['Data da Venda'] = pd.to_datetime(vendas_df['Data da Venda'], format='%d/%m/%Y')\n",
    "display(vendas_df)\n",
    "vendas_df.info()"
   ]
  },
  {
   "cell_type": "code",
   "execution_count": null,
   "metadata": {},
   "outputs": [],
   "source": [
    "#Criando coluna Ano da Venda\n",
    "\n",
    "vendas_df['Data da Venda'] = pd.to_datetime(vendas_df['Data da Venda'], format='%d/%m/%Y')\n",
    "vendas_df['Ano da Venda'] = vendas_df['Data da Venda'].dt.year\n",
    "\n",
    "#Criando coluna mes da Venda\n",
    "vendas_df['Mes da Venda'] = vendas_df['Data da Venda'].dt.month\n",
    "#Criando coluna dia da Venda\n",
    "vendas_df['Dia da Venda'] = vendas_df['Data da Venda'].dt.day\n",
    "display(vendas_df)\n",
    "vendas_df.info()"
   ]
  },
  {
   "cell_type": "markdown",
   "metadata": {},
   "source": [
    "### E agora, caso a gente queira modificar 1 valor específico, como fazemos? Vamos importar novamente a base de produtos"
   ]
  },
  {
   "cell_type": "code",
   "execution_count": null,
   "metadata": {
    "scrolled": true
   },
   "outputs": [],
   "source": [
    "novo_produtos_df = pd.read_csv(r'Contoso - Cadastro Produtos.csv', sep=';')\n",
    "display(novo_produtos_df.head())\n",
    "#repare no .head() para pegar apenas os primeiros valores, é bem comum esse uso para ter uma visão do que são os dados"
   ]
  },
  {
   "cell_type": "markdown",
   "metadata": {},
   "source": [
    "### Antes de entrar no próximo exemplo, precisamos falar de 2 métodos:\n",
    "    1. loc - permite pegar uma linha de acordo com o índice dela. Ele dá erro caso não encontre o índice. Isso é interessante principalmente quando o índice é uma informação relevante ao invés só do número do índice ou quando queremos pegar alguma linha específica do dataframe (ao invés de ir do início do dataframe até a linha 5, por exemplo).\n",
    "        Também podemos usar como loc[índice_linha, índice_coluna] para acessar um valor específico e modificá-lo.\n",
    "    2. iloc - enxerga o dataframe como linhas e colunas e consegue pegar o valor com um número de linha e um número de coluna. Repara que ele não analisa o valor do índice da linha e da coluna, apenas a posição importa.\n",
    "        Uso: iloc[num_linha, num_coluna]\n",
    "        \n",
    "- Vendo na prática"
   ]
  },
  {
   "cell_type": "code",
   "execution_count": null,
   "metadata": {
    "scrolled": true
   },
   "outputs": [],
   "source": [
    "novo_produtos_df = novo_produtos_df.set_index('Nome do Produto')\n",
    "display(novo_produtos_df.head())"
   ]
  },
  {
   "cell_type": "code",
   "execution_count": null,
   "metadata": {
    "scrolled": true
   },
   "outputs": [],
   "source": [
    "#vamos pegar o preço produto Contoso Optical Wheel OEM PS/2 Mouse E60 Black\n",
    "#por loc\n",
    "\n",
    "#por iloc\n"
   ]
  },
  {
   "cell_type": "markdown",
   "metadata": {},
   "source": [
    "### A empresa decidiu aumentar o preço do produto ID 873 (Contoso Wireless Laser Mouse E50 Grey) para 23 reais. Como fazemos, para modificar isso na nossa base?"
   ]
  },
  {
   "cell_type": "code",
   "execution_count": null,
   "metadata": {},
   "outputs": [],
   "source": [
    "#novo_produtos_df.loc['Contoso Wireless Laser Mouse E50 Grey', 'Preco Unitario'] = 23\n"
   ]
  }
 ],
 "metadata": {
  "kernelspec": {
   "display_name": "Python 3",
   "language": "python",
   "name": "python3"
  },
  "language_info": {
   "codemirror_mode": {
    "name": "ipython",
    "version": 3
   },
   "file_extension": ".py",
   "mimetype": "text/x-python",
   "name": "python",
   "nbconvert_exporter": "python",
   "pygments_lexer": "ipython3",
   "version": "3.8.3"
  }
 },
 "nbformat": 4,
 "nbformat_minor": 4
}
